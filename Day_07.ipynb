{
 "cells": [
  {
   "cell_type": "code",
   "execution_count": 1,
   "id": "36703600",
   "metadata": {},
   "outputs": [
    {
     "name": "stdout",
     "output_type": "stream",
     "text": [
      "15\n"
     ]
    }
   ],
   "source": [
    "# Example: A function that adds 10 to any number  \n",
    "def add_ten(number):  \n",
    "    return number + 10  \n",
    "\n",
    "print(add_ten(5))  # Output: 15  "
   ]
  },
  {
   "cell_type": "code",
   "execution_count": null,
   "id": "24eb4516",
   "metadata": {},
   "outputs": [],
   "source": []
  },
  {
   "cell_type": "code",
   "execution_count": 3,
   "id": "1bc3dc6b",
   "metadata": {},
   "outputs": [
    {
     "name": "stdout",
     "output_type": "stream",
     "text": [
      "3\n"
     ]
    }
   ],
   "source": [
    "def subtract_five(number):\n",
    "    return number -5\n",
    "print(subtract_five(8))"
   ]
  },
  {
   "cell_type": "code",
   "execution_count": null,
   "id": "80689cde",
   "metadata": {},
   "outputs": [],
   "source": []
  }
 ],
 "metadata": {
  "kernelspec": {
   "display_name": "Python 3",
   "language": "python",
   "name": "python3"
  },
  "language_info": {
   "codemirror_mode": {
    "name": "ipython",
    "version": 3
   },
   "file_extension": ".py",
   "mimetype": "text/x-python",
   "name": "python",
   "nbconvert_exporter": "python",
   "pygments_lexer": "ipython3",
   "version": "3.13.3"
  }
 },
 "nbformat": 4,
 "nbformat_minor": 5
}
