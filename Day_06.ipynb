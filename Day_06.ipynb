{
 "cells": [
  {
   "cell_type": "code",
   "execution_count": 1,
   "id": "550f6b16",
   "metadata": {},
   "outputs": [
    {
     "name": "stdout",
     "output_type": "stream",
     "text": [
      "1\n",
      "2\n",
      "3\n",
      "4\n",
      "5\n"
     ]
    }
   ],
   "source": [
    "numbers=[1,2,3,4,5]\n",
    "for num in numbers:\n",
    "    print(num)"
   ]
  },
  {
   "cell_type": "code",
   "execution_count": 2,
   "id": "b1e4933e",
   "metadata": {},
   "outputs": [
    {
     "name": "stdout",
     "output_type": "stream",
     "text": [
      "Either male or female\n",
      "Either male or female\n"
     ]
    }
   ],
   "source": [
    "genders = [\"male\", \"female\"]\n",
    "output = \"Either male or female\"\n",
    "\n",
    "for gender in genders:\n",
    "    print(output)\n",
    "\n"
   ]
  },
  {
   "cell_type": "code",
   "execution_count": null,
   "id": "57ec8ffa",
   "metadata": {},
   "outputs": [],
   "source": []
  },
  {
   "cell_type": "code",
   "execution_count": 5,
   "id": "6aae7ea5",
   "metadata": {},
   "outputs": [
    {
     "name": "stdout",
     "output_type": "stream",
     "text": [
      "0\n",
      "1\n",
      "2\n",
      "3\n",
      "4\n"
     ]
    }
   ],
   "source": [
    "count=0\n",
    "while count < 5:\n",
    "    print(count)\n",
    "    count += 1\n"
   ]
  },
  {
   "cell_type": "code",
   "execution_count": 7,
   "id": "17fe39fb",
   "metadata": {},
   "outputs": [],
   "source": [
    "cents = 10\n",
    "while cents< 10:\n",
    "    print(\"Almost to 10 cents\")\n",
    "    cents +=1"
   ]
  },
  {
   "cell_type": "code",
   "execution_count": 8,
   "id": "043e9f6e",
   "metadata": {},
   "outputs": [],
   "source": [
    "numbers=[ 10,20,30,40,50]\n",
    "\n",
    "total=0\n",
    "for num in numbers:\n",
    "    total+=num "
   ]
  },
  {
   "cell_type": "code",
   "execution_count": 9,
   "id": "afb4f74f",
   "metadata": {},
   "outputs": [],
   "source": [
    "average = total / len(numbers)"
   ]
  },
  {
   "cell_type": "code",
   "execution_count": 10,
   "id": "bde23e99",
   "metadata": {},
   "outputs": [
    {
     "name": "stdout",
     "output_type": "stream",
     "text": [
      "30.0\n"
     ]
    }
   ],
   "source": [
    "print(average)"
   ]
  },
  {
   "cell_type": "code",
   "execution_count": null,
   "id": "da9e7ea2",
   "metadata": {
    "vscode": {
     "languageId": "markdown"
    }
   },
   "outputs": [],
   "source": []
  },
  {
   "cell_type": "code",
   "execution_count": 11,
   "id": "6e4e85f4",
   "metadata": {},
   "outputs": [],
   "source": [
    "maximum = numbers[0]\n",
    "minimum = numbers[0]\n",
    "for num in numbers:\n",
    "    if num > maximum:\n",
    "        maximum = num\n",
    "    if num < minimum:\n",
    "        minimum = num"
   ]
  },
  {
   "cell_type": "code",
   "execution_count": 12,
   "id": "220405df",
   "metadata": {},
   "outputs": [
    {
     "name": "stdout",
     "output_type": "stream",
     "text": [
      "sum is 150\n",
      "average is 30.0\n",
      "max is 50\n",
      "min is 10\n",
      "\n"
     ]
    }
   ],
   "source": [
    "print(f\"sum is {total}\\n\"\n",
    "      f\"average is {average}\\n\"\n",
    "      f\"max is {maximum}\\n\"\n",
    "      f\"min is {minimum}\\n\"\n",
    "      \n",
    "      \n",
    "      )"
   ]
  },
  {
   "cell_type": "code",
   "execution_count": null,
   "id": "3058a79e",
   "metadata": {},
   "outputs": [],
   "source": []
  }
 ],
 "metadata": {
  "kernelspec": {
   "display_name": "Python 3",
   "language": "python",
   "name": "python3"
  },
  "language_info": {
   "codemirror_mode": {
    "name": "ipython",
    "version": 3
   },
   "file_extension": ".py",
   "mimetype": "text/x-python",
   "name": "python",
   "nbconvert_exporter": "python",
   "pygments_lexer": "ipython3",
   "version": "3.13.3"
  }
 },
 "nbformat": 4,
 "nbformat_minor": 5
}
