{
 "cells": [
  {
   "cell_type": "code",
   "execution_count": null,
   "id": "a013390e",
   "metadata": {},
   "outputs": [
    {
     "name": "stdout",
     "output_type": "stream",
     "text": [
      "['Talk with Florence', 'Assistance from friends', 'Apply more']\n"
     ]
    }
   ],
   "source": [
    "#1. Creating a List\n",
    "tasks=[\"Talk with Florence\",\"Assistance from friends\",\"Apply more\"]\n",
    "print(tasks)"
   ]
  },
  {
   "cell_type": "code",
   "execution_count": null,
   "id": "2a5f04c9",
   "metadata": {},
   "outputs": [
    {
     "data": {
      "text/plain": [
       "'Talk with Florence'"
      ]
     },
     "execution_count": 2,
     "metadata": {},
     "output_type": "execute_result"
    }
   ],
   "source": [
    "#2. Accessing list items\n",
    "#A. By Index\n",
    "tasks[0] #first item"
   ]
  },
  {
   "cell_type": "code",
   "execution_count": 3,
   "id": "307db90c",
   "metadata": {},
   "outputs": [
    {
     "data": {
      "text/plain": [
       "'Assistance from friends'"
      ]
     },
     "execution_count": 3,
     "metadata": {},
     "output_type": "execute_result"
    }
   ],
   "source": [
    "tasks[1]"
   ]
  },
  {
   "cell_type": "code",
   "execution_count": null,
   "id": "5339657d",
   "metadata": {},
   "outputs": [
    {
     "data": {
      "text/plain": [
       "'Apply more'"
      ]
     },
     "execution_count": 4,
     "metadata": {},
     "output_type": "execute_result"
    }
   ],
   "source": [
    "tasks[-1]#last item"
   ]
  },
  {
   "cell_type": "code",
   "execution_count": 5,
   "id": "d80eedf3",
   "metadata": {},
   "outputs": [
    {
     "data": {
      "text/plain": [
       "['Assistance from friends', 'Apply more']"
      ]
     },
     "execution_count": 5,
     "metadata": {},
     "output_type": "execute_result"
    }
   ],
   "source": [
    "#B. By Slicing\n",
    "tasks[1:3]"
   ]
  },
  {
   "cell_type": "code",
   "execution_count": null,
   "id": "14ed5875",
   "metadata": {},
   "outputs": [
    {
     "ename": "AttributeError",
     "evalue": "'str' object has no attribute 'append'",
     "output_type": "error",
     "traceback": [
      "\u001b[31m---------------------------------------------------------------------------\u001b[39m",
      "\u001b[31mAttributeError\u001b[39m                            Traceback (most recent call last)",
      "\u001b[36mCell\u001b[39m\u001b[36m \u001b[39m\u001b[32mIn[18]\u001b[39m\u001b[32m, line 2\u001b[39m\n\u001b[32m      1\u001b[39m \u001b[38;5;66;03m#3. Modifying lists\u001b[39;00m\n\u001b[32m----> \u001b[39m\u001b[32m2\u001b[39m \u001b[43mtasks\u001b[49m\u001b[43m.\u001b[49m\u001b[43mappend\u001b[49m(\u001b[33m\"\u001b[39m\u001b[33mRead Bible\u001b[39m\u001b[33m\"\u001b[39m)\n\u001b[32m      3\u001b[39m \u001b[38;5;28mprint\u001b[39m(tasks)\n\u001b[32m      5\u001b[39m unique_tasks = \u001b[38;5;28mlist\u001b[39m(\u001b[38;5;28mset\u001b[39m(tasks))  \u001b[38;5;66;03m# Removes all duplicates\u001b[39;00m\n",
      "\u001b[31mAttributeError\u001b[39m: 'str' object has no attribute 'append'"
     ]
    }
   ],
   "source": [
    "#3. Modifying lists\n",
    "tasks.append(\"Read Bible\")\n",
    "print(tasks)\n",
    "\n",
    "unique_tasks = list(set(tasks))  # Removes all duplicates\n",
    "print(unique_tasks)\n",
    "\n",
    "tasks.append(\"exercise\")\n",
    "print(tasks)\n",
    "\n",
    "tasks.clear()\n",
    "print(tasks)\n",
    "\n"
   ]
  },
  {
   "cell_type": "code",
   "execution_count": 27,
   "id": "4d9d417d",
   "metadata": {},
   "outputs": [
    {
     "name": "stdout",
     "output_type": "stream",
     "text": [
      "['read Bible']\n"
     ]
    }
   ],
   "source": [
    "tasks=[\"read Bible\"]\n",
    "print(tasks)"
   ]
  },
  {
   "cell_type": "code",
   "execution_count": 28,
   "id": "eb5d157e",
   "metadata": {},
   "outputs": [
    {
     "name": "stdout",
     "output_type": "stream",
     "text": [
      "['read Bible']\n"
     ]
    }
   ],
   "source": [
    "print(tasks)"
   ]
  },
  {
   "cell_type": "code",
   "execution_count": null,
   "id": "2b85e86f",
   "metadata": {},
   "outputs": [],
   "source": [
    "tasks.append(\"Call mom\") #adds item to the end"
   ]
  },
  {
   "cell_type": "code",
   "execution_count": 30,
   "id": "e7e503e1",
   "metadata": {},
   "outputs": [
    {
     "name": "stdout",
     "output_type": "stream",
     "text": [
      "['read Bible', 'Call mom']\n"
     ]
    }
   ],
   "source": [
    "print(tasks)"
   ]
  },
  {
   "cell_type": "code",
   "execution_count": 32,
   "id": "ce5414fc",
   "metadata": {},
   "outputs": [],
   "source": [
    "tasks.insert(1,\"call dad\")"
   ]
  },
  {
   "cell_type": "code",
   "execution_count": 33,
   "id": "7971076e",
   "metadata": {},
   "outputs": [
    {
     "name": "stdout",
     "output_type": "stream",
     "text": [
      "['read Bible', 'call dad', 'Call mom']\n"
     ]
    }
   ],
   "source": [
    "print(tasks)"
   ]
  },
  {
   "cell_type": "code",
   "execution_count": 34,
   "id": "5b7dffdd",
   "metadata": {},
   "outputs": [],
   "source": [
    "tasks.remove(\"call dad\")"
   ]
  },
  {
   "cell_type": "code",
   "execution_count": 35,
   "id": "9cc39647",
   "metadata": {},
   "outputs": [
    {
     "name": "stdout",
     "output_type": "stream",
     "text": [
      "['read Bible', 'Call mom']\n"
     ]
    }
   ],
   "source": [
    "print(tasks)"
   ]
  },
  {
   "cell_type": "code",
   "execution_count": 36,
   "id": "18b6cfd3",
   "metadata": {},
   "outputs": [
    {
     "data": {
      "text/plain": [
       "'read Bible'"
      ]
     },
     "execution_count": 36,
     "metadata": {},
     "output_type": "execute_result"
    }
   ],
   "source": [
    "tasks.pop(0)"
   ]
  },
  {
   "cell_type": "code",
   "execution_count": 37,
   "id": "11602434",
   "metadata": {},
   "outputs": [
    {
     "name": "stdout",
     "output_type": "stream",
     "text": [
      "['Call mom']\n"
     ]
    }
   ],
   "source": [
    "print(tasks)"
   ]
  },
  {
   "cell_type": "code",
   "execution_count": 38,
   "id": "fac9187d",
   "metadata": {},
   "outputs": [],
   "source": [
    "tasks[0]=\"buy groceries\""
   ]
  },
  {
   "cell_type": "code",
   "execution_count": 39,
   "id": "d0b8ba71",
   "metadata": {},
   "outputs": [
    {
     "name": "stdout",
     "output_type": "stream",
     "text": [
      "['buy groceries']\n"
     ]
    }
   ],
   "source": [
    "print(tasks)"
   ]
  },
  {
   "cell_type": "code",
   "execution_count": 41,
   "id": "ab69db21",
   "metadata": {},
   "outputs": [],
   "source": [
    "if \"buy ghoceries\" in tasks:\n",
    "    print(\"Healthy eating tonight!\")"
   ]
  },
  {
   "cell_type": "code",
   "execution_count": 1,
   "id": "4d8a9dfb",
   "metadata": {},
   "outputs": [],
   "source": [
    "todo_list=[\"wash clothes\", \"study python\"]"
   ]
  },
  {
   "cell_type": "code",
   "execution_count": null,
   "id": "105e0c10",
   "metadata": {},
   "outputs": [],
   "source": [
    "choice = input(\"Choose an option (1-4): 4\") "
   ]
  },
  {
   "cell_type": "code",
   "execution_count": null,
   "id": "ae39c9f7",
   "metadata": {},
   "outputs": [],
   "source": []
  },
  {
   "cell_type": "code",
   "execution_count": 7,
   "id": "7faf066f",
   "metadata": {},
   "outputs": [
    {
     "name": "stdout",
     "output_type": "stream",
     "text": [
      "\n",
      "Your Tasks:\n",
      "1. wash clothes\n",
      "2. study python\n"
     ]
    }
   ],
   "source": [
    "if not todo_list:\n",
    "            print(\"Your list is empty!\")\n",
    "            \n",
    "else:\n",
    "            print(\"\\nYour Tasks:\")\n",
    "            for i, task in enumerate(todo_list, start=1):\n",
    "                print(f\"{i}. {task}\")\n"
   ]
  },
  {
   "cell_type": "code",
   "execution_count": null,
   "id": "408c4ad1",
   "metadata": {},
   "outputs": [],
   "source": []
  },
  {
   "cell_type": "code",
   "execution_count": null,
   "id": "350c0eee",
   "metadata": {},
   "outputs": [],
   "source": []
  },
  {
   "cell_type": "code",
   "execution_count": null,
   "id": "57b56028",
   "metadata": {},
   "outputs": [],
   "source": []
  }
 ],
 "metadata": {
  "kernelspec": {
   "display_name": "Python 3",
   "language": "python",
   "name": "python3"
  },
  "language_info": {
   "codemirror_mode": {
    "name": "ipython",
    "version": 3
   },
   "file_extension": ".py",
   "mimetype": "text/x-python",
   "name": "python",
   "nbconvert_exporter": "python",
   "pygments_lexer": "ipython3",
   "version": "3.13.3"
  }
 },
 "nbformat": 4,
 "nbformat_minor": 5
}
