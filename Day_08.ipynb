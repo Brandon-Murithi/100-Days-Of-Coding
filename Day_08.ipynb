{
 "cells": [
  {
   "cell_type": "code",
   "execution_count": 14,
   "id": "acdbe5d3",
   "metadata": {},
   "outputs": [
    {
     "name": "stdout",
     "output_type": "stream",
     "text": [
      "Error: Give me a number, not nonsense.\n"
     ]
    }
   ],
   "source": [
    "def add_ten(number):  \n",
    "    try:  \n",
    "        return number + 10  \n",
    "    except TypeError:  \n",
    "        return \"Error: Give me a number, not nonsense.\"  \n",
    "\n",
    "print(add_ten(\"hello\"))  # Output: Error message  "
   ]
  },
  {
   "cell_type": "code",
   "execution_count": 15,
   "id": "b8866cf2",
   "metadata": {},
   "outputs": [
    {
     "name": "stdout",
     "output_type": "stream",
     "text": [
      "9\n"
     ]
    }
   ],
   "source": [
    "def add_ten(number):\n",
    " try:\n",
    "   return number + 5\n",
    " except TypeError:\n",
    "   return \"Give me a number!\"\n",
    "print(add_ten(4))"
   ]
  },
  {
   "cell_type": "code",
   "execution_count": 20,
   "id": "5f01f0ef",
   "metadata": {},
   "outputs": [
    {
     "name": "stdout",
     "output_type": "stream",
     "text": [
      "4.0\n"
     ]
    }
   ],
   "source": [
    "def divide_by_two(number):\n",
    "    try:\n",
    "        return number / 2\n",
    "    except TypeError:\n",
    "        return \"Give me a number!\"\n",
    "   \n",
    "print(divide_by_two(8))"
   ]
  },
  {
   "cell_type": "code",
   "execution_count": 19,
   "id": "bf604662",
   "metadata": {},
   "outputs": [
    {
     "name": "stdout",
     "output_type": "stream",
     "text": [
      "5.0\n",
      "Give me a number!\n"
     ]
    }
   ],
   "source": [
    "def divide_by_two(number):\n",
    "    try:\n",
    "        return number / 2\n",
    "    except TypeError:\n",
    "        return \"Give me a number!\"\n",
    "\n",
    "print(divide_by_two(10))      # Output: 5.0\n",
    "print(divide_by_two(\"test\"))  # Output: Give me a number!"
   ]
  },
  {
   "cell_type": "code",
   "execution_count": null,
   "id": "8280b369",
   "metadata": {},
   "outputs": [],
   "source": []
  }
 ],
 "metadata": {
  "kernelspec": {
   "display_name": "Python 3",
   "language": "python",
   "name": "python3"
  },
  "language_info": {
   "codemirror_mode": {
    "name": "ipython",
    "version": 3
   },
   "file_extension": ".py",
   "mimetype": "text/x-python",
   "name": "python",
   "nbconvert_exporter": "python",
   "pygments_lexer": "ipython3",
   "version": "3.13.3"
  }
 },
 "nbformat": 4,
 "nbformat_minor": 5
}
